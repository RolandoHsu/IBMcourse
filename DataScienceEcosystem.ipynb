{
 "cells": [
  {
   "cell_type": "markdown",
   "id": "31d28380-2b3f-45c6-a5bf-3e521dea2c7c",
   "metadata": {},
   "source": [
    "# Data Science Tools and Ecosystem"
   ]
  },
  {
   "cell_type": "markdown",
   "id": "40f4f282-bddf-4f15-a951-0b74231e92af",
   "metadata": {},
   "source": [
    "## Author\n",
    "* 許博惇 Bo Dun Hsu"
   ]
  },
  {
   "cell_type": "markdown",
   "id": "c84d15df-cfdc-4acb-9fb2-97fdb7683dd7",
   "metadata": {},
   "source": [
    "* In this notebook, Data Science Tools and Ecosystem are summarized."
   ]
  },
  {
   "cell_type": "markdown",
   "id": "ff3d2ed5-d7b7-471e-bd6d-85734abb1022",
   "metadata": {},
   "source": [
    "**Objectives:**\n",
    "\n",
    "- Create markdown cell with title of the notebook\n",
    "- Create a markdown cell for an introduction\n",
    "- Create a markdown cell with a table of Data Science tools"
   ]
  },
  {
   "cell_type": "markdown",
   "id": "901623dd-0b8a-4bc7-abff-299d9def102d",
   "metadata": {
    "tags": []
   },
   "source": [
    "### Some of the popular languages that Data Scientists use are:\n",
    "1. Python\n",
    "2. R\n",
    "3. SAS"
   ]
  },
  {
   "cell_type": "markdown",
   "id": "3f3a0949-b07d-4d16-b7cc-8460d97a1953",
   "metadata": {},
   "source": [
    "## Some of the commonly used libraries used by Data Scientists include:\n",
    "1. pandas \n",
    "2. ggplot\n",
    "3. caret"
   ]
  },
  {
   "cell_type": "code",
   "execution_count": 6,
   "id": "c0bece5e-860b-460d-bf72-4ab4c7a21490",
   "metadata": {
    "tags": []
   },
   "outputs": [
    {
     "data": {
      "text/html": [
       "<div>\n",
       "<style scoped>\n",
       "    .dataframe tbody tr th:only-of-type {\n",
       "        vertical-align: middle;\n",
       "    }\n",
       "\n",
       "    .dataframe tbody tr th {\n",
       "        vertical-align: top;\n",
       "    }\n",
       "\n",
       "    .dataframe thead th {\n",
       "        text-align: right;\n",
       "    }\n",
       "</style>\n",
       "<table border=\"1\" class=\"dataframe\">\n",
       "  <thead>\n",
       "    <tr style=\"text-align: right;\">\n",
       "      <th></th>\n",
       "      <th>Data Science Tools</th>\n",
       "    </tr>\n",
       "  </thead>\n",
       "  <tbody>\n",
       "    <tr>\n",
       "      <th>0</th>\n",
       "      <td>Jupyter Notebook</td>\n",
       "    </tr>\n",
       "    <tr>\n",
       "      <th>1</th>\n",
       "      <td>RStudio</td>\n",
       "    </tr>\n",
       "    <tr>\n",
       "      <th>2</th>\n",
       "      <td>VS Code</td>\n",
       "    </tr>\n",
       "  </tbody>\n",
       "</table>\n",
       "</div>"
      ],
      "text/plain": [
       "  Data Science Tools\n",
       "0   Jupyter Notebook\n",
       "1            RStudio\n",
       "2            VS Code"
      ]
     },
     "execution_count": 6,
     "metadata": {},
     "output_type": "execute_result"
    }
   ],
   "source": [
    "import pandas as pd\n",
    "data = {'Data Science Tools': ['Jupyter Notebook', 'RStudio', 'VS Code']}\n",
    "df = pd.DataFrame(data)\n",
    "df"
   ]
  },
  {
   "cell_type": "markdown",
   "id": "9949f3dc-d9a1-43cd-be59-61520d3d303f",
   "metadata": {},
   "source": [
    "### Below are a few examples of evaluating arithmetic expressions in Python"
   ]
  },
  {
   "cell_type": "code",
   "execution_count": 8,
   "id": "3d215fd1-5635-4a81-b72f-081c3c19cfd7",
   "metadata": {
    "tags": []
   },
   "outputs": [
    {
     "data": {
      "text/plain": [
       "17"
      ]
     },
     "execution_count": 8,
     "metadata": {},
     "output_type": "execute_result"
    }
   ],
   "source": [
    "## This a simple arithmetic expression to mutiply then add integers\n",
    "(3*4)+5"
   ]
  },
  {
   "cell_type": "code",
   "execution_count": 10,
   "id": "3019d11e-83fd-4312-9e68-c92bc63056da",
   "metadata": {
    "tags": []
   },
   "outputs": [
    {
     "name": "stdout",
     "output_type": "stream",
     "text": [
      "200mins = 3.3333333333333335 hours\n"
     ]
    }
   ],
   "source": [
    "##  This will convert 200 minutes to hours by diving by 60\n",
    "print(\"200mins =\", 200/60, 'hours')"
   ]
  },
  {
   "cell_type": "code",
   "execution_count": null,
   "id": "f735d6f4-f86e-47b9-8300-4e81ce275efd",
   "metadata": {},
   "outputs": [],
   "source": []
  }
 ],
 "metadata": {
  "kernelspec": {
   "display_name": "Python",
   "language": "python",
   "name": "conda-env-python-py"
  },
  "language_info": {
   "codemirror_mode": {
    "name": "ipython",
    "version": 3
   },
   "file_extension": ".py",
   "mimetype": "text/x-python",
   "name": "python",
   "nbconvert_exporter": "python",
   "pygments_lexer": "ipython3",
   "version": "3.7.12"
  }
 },
 "nbformat": 4,
 "nbformat_minor": 5
}
